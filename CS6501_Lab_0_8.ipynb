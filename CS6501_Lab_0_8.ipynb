{
  "nbformat": 4,
  "nbformat_minor": 0,
  "metadata": {
    "colab": {
      "name": "CS6501_Lab_0_8.ipynb",
      "provenance": [],
      "include_colab_link": true
    },
    "kernelspec": {
      "name": "python3",
      "display_name": "Python 3"
    },
    "language_info": {
      "name": "python"
    }
  },
  "cells": [
    {
      "cell_type": "markdown",
      "metadata": {
        "id": "view-in-github",
        "colab_type": "text"
      },
      "source": [
        "<a href=\"https://colab.research.google.com/github/colinkelleher/5-in-a-row-game/blob/master/CS6501_Lab_0_8.ipynb\" target=\"_parent\"><img src=\"https://colab.research.google.com/assets/colab-badge.svg\" alt=\"Open In Colab\"/></a>"
      ]
    },
    {
      "cell_type": "markdown",
      "metadata": {
        "id": "3Ki5JHGkVubK"
      },
      "source": [
        "<div>\n",
        "<img src=\"https://drive.google.com/uc?export=view&id=1vK33e_EqaHgBHcbRV_m38hx6IkG0blK_\" width=\"350\"/>\n",
        "</div> \n",
        "\n",
        "#**Artificial Intelligence - MSc**\n",
        "CS6501 - MACHINE LEARNING AND APPLICATIONS \n",
        "\n",
        "###Instructor: Enrique Naredo\n",
        "###CS6501_Lab-0.8"
      ]
    },
    {
      "cell_type": "markdown",
      "metadata": {
        "id": "PFvNOA7si2d_"
      },
      "source": [
        "# Numpy"
      ]
    },
    {
      "cell_type": "markdown",
      "metadata": {
        "id": "_JcEGZQDi2eC"
      },
      "source": [
        "\n",
        "This part focuses on Numpy, see <a href=\"https://numpy.org/doc/stable/user/quickstart.html\">numpy quickstart tutorial</a>, which I encourage you to reference throughout the course.\n",
        "\n",
        "\n",
        "Some problems about numpy\n",
        "\n"
      ]
    },
    {
      "cell_type": "markdown",
      "metadata": {
        "id": "GmTAAkiAi2eH"
      },
      "source": [
        "# Problem 11\n",
        "Normalize a 5x5 random matrix\n",
        "\n",
        "Solution:\n",
        ">Z = np.random.random((5,5))\n",
        ">\n",
        ">Z = (Z - np.mean (Z)) / (np.std (Z))\n",
        ">\n",
        ">print(Z)\n"
      ]
    },
    {
      "cell_type": "markdown",
      "metadata": {
        "id": "Y73QHZ8fi2eH"
      },
      "source": [
        "# Problem 12\n",
        "\n",
        "Multiply a 5x3 matrix by a 3x2 matrix (matrix product).\n",
        "\n",
        "Hint\n",
        "\n",
        "    It is straightforward if you use np.matmul()."
      ]
    },
    {
      "cell_type": "code",
      "metadata": {
        "colab": {
          "base_uri": "https://localhost:8080/"
        },
        "id": "x0C8zwBWOv2v",
        "outputId": "bce869f2-d3ef-4ea7-af3a-4616f0c9d1eb"
      },
      "source": [
        "import numpy as np\n",
        "X = np.random.random((5,3))\n",
        "Y = np.random.random((3,2))\n",
        "Z = np.dot(X,Y)\n",
        "print(\"5x3 Matrix =>\", X)\n",
        "print(\"3x2 Matrix =>\", Y)\n",
        "print(\"5x3 Matrix multiply by 3x2 Matrix  =>\", Z)"
      ],
      "execution_count": 3,
      "outputs": [
        {
          "output_type": "stream",
          "name": "stdout",
          "text": [
            "5x3 Matrix => [[0.56362191 0.44590795 0.32781921]\n",
            " [0.15980656 0.20728355 0.2082361 ]\n",
            " [0.6294724  0.41932418 0.72112373]\n",
            " [0.99848753 0.49113227 0.66391613]\n",
            " [0.81827568 0.71580828 0.00411935]]\n",
            "3x2 Matrix => [[0.51131503 0.25240602]\n",
            " [0.55550905 0.08111732]\n",
            " [0.54664481 0.82811436]]\n",
            "5x3 Matrix multiply by 3x2 Matrix  => [[0.71509493 0.44990422]\n",
            " [0.31069057 0.22959373]\n",
            " [0.94899563 0.79007   ]\n",
            " [1.14629641 0.84166208]\n",
            " [0.81828645 0.26801345]]\n"
          ]
        }
      ]
    },
    {
      "cell_type": "markdown",
      "metadata": {
        "id": "qd0RVtHhi2eI"
      },
      "source": [
        "# Problem 13\n",
        "Given a 1D array, negate in place all elements which are between 3 and 8."
      ]
    },
    {
      "cell_type": "code",
      "metadata": {
        "colab": {
          "base_uri": "https://localhost:8080/"
        },
        "id": "DN-1jmdTPt6B",
        "outputId": "355d885b-e4ab-487d-828a-7e2f7695a4f0"
      },
      "source": [
        "Z = np.arange(10)\n",
        "\n",
        "Z[3:9] = np.multiply(Z[3:9],-1)\n",
        "\n",
        "print(Z)"
      ],
      "execution_count": 6,
      "outputs": [
        {
          "output_type": "stream",
          "name": "stdout",
          "text": [
            "[ 0  1  2 -3 -4 -5 -6 -7 -8  9]\n"
          ]
        }
      ]
    },
    {
      "cell_type": "markdown",
      "metadata": {
        "id": "ATdBweZpi2eI"
      },
      "source": [
        "# Problem 14\n",
        "How to find common values between two arrays?\n"
      ]
    },
    {
      "cell_type": "code",
      "metadata": {
        "colab": {
          "base_uri": "https://localhost:8080/"
        },
        "id": "srBegSZ3QBsh",
        "outputId": "ce6b4317-2230-4790-dbeb-e32a9fbdf98e"
      },
      "source": [
        "X = [1,2,3,4,5,6,7,8,9]\n",
        "Y = [9,10,11,12]\n",
        "Z = np.intersect1d(X,Y)\n",
        "print(Z)"
      ],
      "execution_count": 7,
      "outputs": [
        {
          "output_type": "stream",
          "name": "stdout",
          "text": [
            "[9]\n"
          ]
        }
      ]
    },
    {
      "cell_type": "markdown",
      "metadata": {
        "id": "enAmhXegi2eI"
      },
      "source": [
        "# Problem 15\n",
        "How to find the most frequent value in an array? (Use `Z = np.random.randint(0,10,50)` to generate the array)"
      ]
    },
    {
      "cell_type": "code",
      "metadata": {
        "colab": {
          "base_uri": "https://localhost:8080/"
        },
        "id": "3aPqvBCkQev0",
        "outputId": "c018c01b-f416-44d9-e04d-e980b450f0d2"
      },
      "source": [
        "Z = np.random.randint(0,10,50)\n",
        "print(Z)\n",
        "print(np.bincount(Z).argmax())"
      ],
      "execution_count": 10,
      "outputs": [
        {
          "output_type": "stream",
          "name": "stdout",
          "text": [
            "[9 6 5 2 3 2 2 7 0 6 1 0 0 1 5 1 4 3 3 3 5 0 4 4 0 8 8 3 1 9 6 9 9 8 1 7 4\n",
            " 5 3 0 5 9 2 3 9 4 2 3 6 5]\n",
            "3\n"
          ]
        }
      ]
    },
    {
      "cell_type": "code",
      "metadata": {
        "id": "I6iXVvqHQgwz"
      },
      "source": [
        ""
      ],
      "execution_count": null,
      "outputs": []
    }
  ]
}